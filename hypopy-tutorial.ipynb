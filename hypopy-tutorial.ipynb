{
 "cells": [
  {
   "cell_type": "markdown",
   "metadata": {},
   "source": [
    "# hypopy tutorial"
   ]
  },
  {
   "cell_type": "code",
   "execution_count": 1,
   "metadata": {},
   "outputs": [
    {
     "name": "stderr",
     "output_type": "stream",
     "text": [
      "/opt/local/Library/Frameworks/Python.framework/Versions/3.5/lib/python3.5/site-packages/IPython/html.py:14: ShimWarning: The `IPython.html` package has been deprecated since IPython 4.0. You should import from `notebook` instead. `IPython.html.widgets` has moved to `ipywidgets`.\n",
      "  \"`IPython.html.widgets` has moved to `ipywidgets`.\", ShimWarning)\n"
     ]
    }
   ],
   "source": [
    "import numpy as np\n",
    "import matplotlib.pyplot as plt\n",
    "import seaborn as sns\n",
    "sns.set_style(\"whitegrid\")\n",
    "import hypo"
   ]
  },
  {
   "cell_type": "markdown",
   "metadata": {},
   "source": [
    "## Joint hypocenter-velocity inversion with P-wave arrivals only\n",
    "\n",
    "### Create first synthetic data\n",
    "\n",
    "Define limits and build grid"
   ]
  },
  {
   "cell_type": "code",
   "execution_count": 2,
   "metadata": {
    "collapsed": true
   },
   "outputs": [],
   "source": [
    "xmin = 90.0\n",
    "xmax = 211.0\n",
    "ymin = 80.0\n",
    "ymax = 211.0\n",
    "zmin = 0.0\n",
    "zmax = 101.0\n",
    "\n",
    "dx = 10.0\n",
    "\n",
    "g = hypo.Grid3D(np.arange(xmin, xmax, dx), np.arange(ymin, ymax, dx), np.arange(zmin, zmax, dx))"
   ]
  },
  {
   "cell_type": "markdown",
   "metadata": {},
   "source": [
    "We need some receivers"
   ]
  },
  {
   "cell_type": "code",
   "execution_count": 3,
   "metadata": {
    "collapsed": true
   },
   "outputs": [],
   "source": [
    "rcv = np.array([[112., 115., 13.],\n",
    "                    [151., 117., 17.],\n",
    "                    [180., 115., 16.],\n",
    "                    [113., 145., 11.],\n",
    "                    [160., 150., 17.],\n",
    "                    [185., 149., 15.],\n",
    "                    [117., 184., 11.],\n",
    "                    [155., 192.,  9.],\n",
    "                    [188., 188., 10.],\n",
    "                    [188., 186., 30.],\n",
    "                    [188., 183., 60.]])\n",
    "nsta = rcv.shape[0]"
   ]
  },
  {
   "cell_type": "markdown",
   "metadata": {},
   "source": [
    "Let's create 15 events randomly located in the grid"
   ]
  },
  {
   "cell_type": "code",
   "execution_count": 4,
   "metadata": {
    "collapsed": true
   },
   "outputs": [],
   "source": [
    "nev = 15\n",
    "src = np.vstack((np.arange(nev),                                            # event ID\n",
    "                 np.linspace(0., 50., nev) + 2.*np.random.randn(nev),       # origin time\n",
    "                 160. +  5.*np.random.randn(nev),                           # x\n",
    "                 130. +  5.*np.random.randn(nev),                           # y\n",
    "                  35. + 10.*np.random.randn(nev))).T                        # z"
   ]
  },
  {
   "cell_type": "markdown",
   "metadata": {},
   "source": [
    "For simplicity, we will use a velocity model with a small vertical gradient and mean Vp = 4000 m/s"
   ]
  },
  {
   "cell_type": "code",
   "execution_count": 5,
   "metadata": {},
   "outputs": [
    {
     "data": {
      "image/png": "[encoded data removed]",
      "text/plain": [
       "<matplotlib.figure.Figure at 0x1145b5a90>"
      ]
     },
     "metadata": {},
     "output_type": "display_data"
    }
   ],
   "source": [
    "z = np.arange(zmin, zmax, dx) - 50.\n",
    "Vz = 4000.0 + 5*z\n",
    "Vp = np.kron(Vz, np.ones((g.shape[0], g.shape[1], 1)))\n",
    "\n",
    "plt.subplot(221)\n",
    "plt.imshow(np.squeeze(Vp[:,0,:].T), cmap='CMRmap')\n",
    "plt.subplot(222)\n",
    "plt.imshow(np.squeeze(Vp[0,:,:].T), cmap='CMRmap')\n",
    "plt.colorbar()\n",
    "plt.subplot(223)\n",
    "plt.imshow(np.squeeze(Vp[:,:,4]), cmap='CMRmap')\n",
    "\n",
    "\n",
    "plt.show()"
   ]
  },
  {
   "cell_type": "markdown",
   "metadata": {},
   "source": [
    "Let's now compute the travel times\n",
    "\n",
    "The raytracing routine takes 3 input variables:\n",
    "- the slowness vector\n",
    "- the matrix of hypocenter data (hypo)\n",
    "- the matrix of receiver coordonates (rcv)\n",
    "\n",
    "hypo and rcv must have the same number of rows, with each row corresponding to a source-receiver pair"
   ]
  },
  {
   "cell_type": "code",
   "execution_count": 6,
   "metadata": {},
   "outputs": [
    {
     "data": {
      "image/png": "[encoded data removed]",
      "text/plain": [
       "<matplotlib.figure.Figure at 0x10f887278>"
      ]
     },
     "metadata": {},
     "output_type": "display_data"
    }
   ],
   "source": [
    "slowness = 1./Vp.flatten()\n",
    "\n",
    "src = np.kron(src,np.ones((nsta,1)))\n",
    "rcv = np.kron(np.ones((nev,1)), rcv)\n",
    "\n",
    "tt = g.raytrace(slowness, src, rcv)\n",
    "\n",
    "plt.plot(tt,'o')\n",
    "plt.show()"
   ]
  },
  {
   "cell_type": "markdown",
   "metadata": {
    "collapsed": true
   },
   "source": [
    "Add some noise to the data"
   ]
  },
  {
   "cell_type": "code",
   "execution_count": 7,
   "metadata": {
    "collapsed": true
   },
   "outputs": [],
   "source": [
    "noise_variance = 1.e-3;  # 1 ms\n",
    "tt += noise_variance*np.random.randn(tt.size)"
   ]
  },
  {
   "cell_type": "markdown",
   "metadata": {},
   "source": [
    "Combine the event IDs, travel times, and receiver locations"
   ]
  },
  {
   "cell_type": "code",
   "execution_count": 8,
   "metadata": {
    "collapsed": true
   },
   "outputs": [],
   "source": [
    "data = np.hstack((src[:,0].reshape((-1,1)), tt.reshape((-1,1)), rcv))"
   ]
  },
  {
   "cell_type": "markdown",
   "metadata": {},
   "source": [
    "### Initial hypocenter locations & velocity model\n",
    "\n",
    "Note that for efficiency reason when computing matrix M, initial hypocenters\n",
    "should _not_ be equal for any two event, e.g. they shoud all be different.\n",
    "\n",
    "Here we place the initial coordinates more or less in the center of the grid."
   ]
  },
  {
   "cell_type": "code",
   "execution_count": 9,
   "metadata": {
    "collapsed": true
   },
   "outputs": [],
   "source": [
    "hinit = np.vstack((np.arange(nev),\n",
    "                   np.linspace(0., 50., nev),\n",
    "                   160. + 0.1*np.random.randn(nev),\n",
    "                   130. + 0.1*np.random.randn(nev),\n",
    "                    35. + 0.1*np.random.randn(nev))).T"
   ]
  },
  {
   "cell_type": "markdown",
   "metadata": {},
   "source": [
    "Initial velocity model is homogeneous"
   ]
  },
  {
   "cell_type": "code",
   "execution_count": 10,
   "metadata": {
    "collapsed": true
   },
   "outputs": [],
   "source": [
    "Vinit = 3900.0 + np.zeros((g.getNumberOfNodes(),))"
   ]
  },
  {
   "cell_type": "markdown",
   "metadata": {},
   "source": [
    "### Velocity data points\n",
    "\n",
    "For illustrative purposes, let's add two velocity point data to constrain the inversion"
   ]
  },
  {
   "cell_type": "code",
   "execution_count": 11,
   "metadata": {
    "collapsed": true
   },
   "outputs": [],
   "source": [
    "Vpts = np.array([[Vz[1], 110.0, 110.0, z[1]+50.],\n",
    "                 [4000.0 + 5*(11.-50.), 112.0, 148.0, 11.0]])"
   ]
  },
  {
   "cell_type": "markdown",
   "metadata": {},
   "source": [
    "### Calibration shots\n",
    "\n",
    "Let's use 3 shots recorded at most receivers"
   ]
  },
  {
   "cell_type": "code",
   "execution_count": 12,
   "metadata": {
    "collapsed": true
   },
   "outputs": [],
   "source": [
    "ncal = 3\n",
    "cal = np.vstack((5+np.arange(ncal),\n",
    "                 np.zeros(ncal),\n",
    "                 160. +  5.*np.random.randn(ncal),\n",
    "                 130. +  5.*np.random.randn(ncal),\n",
    "                   5. +     np.random.randn(ncal))).T\n",
    "\n",
    "cal = np.kron(cal,np.ones((nsta,1)))\n",
    "rcv = np.array([[112., 115., 13.],\n",
    "                [151., 117., 17.],\n",
    "                [180., 115., 16.],\n",
    "                [113., 145., 11.],\n",
    "                [160., 150., 17.],\n",
    "                [185., 149., 15.],\n",
    "                [117., 184., 11.],\n",
    "                [155., 192.,  9.],\n",
    "                [188., 188., 10.],\n",
    "                [188., 186., 30.],\n",
    "                [188., 183., 60.]])\n",
    "rcv = np.kron(np.ones((ncal,1)), rcv)\n",
    "\n",
    "ind = np.ones(rcv.shape[0], dtype=bool)\n",
    "ind[3] = 0\n",
    "ind[13] = 0\n",
    "ind[15] = 0\n",
    "cal = cal[ind,:]\n",
    "rcv = rcv[ind,:]\n",
    "\n",
    "tcal = g.raytrace(slowness, cal, rcv)\n",
    "caldata = np.column_stack((cal[:,0], tcal, rcv, cal[:,2:]))"
   ]
  },
  {
   "cell_type": "markdown",
   "metadata": {},
   "source": [
    "Before running the joint hypocenter-velocity inversion (JHVI), we use the constant velocity location algorithm.  This will improve convergence of the JHVI."
   ]
  },
  {
   "cell_type": "code",
   "execution_count": 13,
   "metadata": {},
   "outputs": [
    {
     "name": "stdout",
     "output_type": "stream",
     "text": [
      " *** Hypocenter inversion ***\n",
      "\n",
      "Locating hypocenters no 0\n",
      "     Converged at iteration 2\n",
      "Locating hypocenters no 1\n",
      "     Converged at iteration 2\n",
      "Locating hypocenters no 2\n",
      "     Converged at iteration 1\n",
      "Locating hypocenters no 3\n",
      "     Converged at iteration 1\n",
      "Locating hypocenters no 4\n",
      "     Converged at iteration 2\n",
      "Locating hypocenters no 5\n",
      "     Converged at iteration 1\n",
      "Locating hypocenters no 6\n",
      "     Converged at iteration 1\n",
      "Locating hypocenters no 7\n",
      "     Converged at iteration 2\n",
      "Locating hypocenters no 8\n",
      "     Converged at iteration 1\n",
      "Locating hypocenters no 9\n",
      "     Converged at iteration 1\n",
      "Locating hypocenters no 10\n",
      "     Converged at iteration 2\n",
      "Locating hypocenters no 11\n",
      "     Converged at iteration 2\n",
      "Locating hypocenters no 12\n",
      "     Converged at iteration 2\n",
      "Locating hypocenters no 13\n",
      "     Converged at iteration 2\n",
      "Locating hypocenters no 14\n",
      "     Converged at iteration 1\n"
     ]
    }
   ],
   "source": [
    "hinit, res = hypo.hypoloc(data, V=4000., hinit=hinit, maxit=15, convh=1., verbose=True)"
   ]
  },
  {
   "cell_type": "markdown",
   "metadata": {},
   "source": [
    "### Joint hypocenter-velocity Inversion parameters"
   ]
  },
  {
   "cell_type": "code",
   "execution_count": 14,
   "metadata": {
    "collapsed": true
   },
   "outputs": [],
   "source": [
    "Vlim = (3500., 4500., 1.0)\n",
    "dmax = (50., 5., 2.e-3)\n",
    "lagran = (1., 1., 1., 1.)\n",
    "\n",
    "par = hypo.InvParams(maxit=2, maxit_hypo=10, conv_hypo=2, Vlim=Vlim, dmax=dmax,\n",
    "                     lagrangians=lagran, invert_vel=True, verbose=True)"
   ]
  },
  {
   "cell_type": "markdown",
   "metadata": {},
   "source": [
    "Run the inversion"
   ]
  },
  {
   "cell_type": "code",
   "execution_count": 15,
   "metadata": {},
   "outputs": [
    {
     "name": "stdout",
     "output_type": "stream",
     "text": [
      " *** Joint hypocenter-velocity inversion ***\n",
      "\n",
      "Building velocity data point matrix D\n",
      "Building regularization matrix K\n",
      "\n",
      "Starting iterations\n",
      "Iteration 1 - Updating velocity model\n",
      "                Updating penalty vector\n",
      "                Raytracing\n"
     ]
    },
    {
     "data": {
      "image/png": "[encoded data removed]",
      "text/plain": [
       "<matplotlib.figure.Figure at 0x1145a8400>"
      ]
     },
     "metadata": {},
     "output_type": "display_data"
    },
    {
     "name": "stdout",
     "output_type": "stream",
     "text": [
      "                Building matrix M\n",
      "                  Event ID 0\n",
      "                  Event ID 1\n",
      "                  Event ID 2\n",
      "                  Event ID 3\n",
      "                  Event ID 4\n",
      "                  Event ID 5\n",
      "                  Event ID 6\n",
      "                  Event ID 7\n",
      "                  Event ID 8\n",
      "                  Event ID 9\n",
      "                  Event ID 10\n",
      "                  Event ID 11\n",
      "                  Event ID 12\n",
      "                  Event ID 13\n",
      "                  Event ID 14\n",
      "                Assembling matrices and solving system\n",
      "Iteration 1 - Relocating events\n",
      "                Updating event ID 0 (1/15)\n",
      "                  Updating latitude & longitude - converged at iteration 2\n",
      "                  Updating all hypocenter params - converged at iteration 2\n",
      "                Updating event ID 1 (2/15)\n",
      "                  Updating latitude & longitude - converged at iteration 2\n",
      "                  Updating all hypocenter params - converged at iteration 2\n",
      "                Updating event ID 2 (3/15)\n",
      "                  Updating latitude & longitude - converged at iteration 2\n",
      "                  Updating all hypocenter params - converged at iteration 2\n",
      "                Updating event ID 3 (4/15)\n",
      "                  Updating latitude & longitude - converged at iteration 2\n",
      "                  Updating all hypocenter params - converged at iteration 2\n",
      "                Updating event ID 4 (5/15)\n",
      "                  Updating latitude & longitude - converged at iteration 2\n",
      "                  Updating all hypocenter params - converged at iteration 2\n",
      "                Updating event ID 5 (6/15)\n",
      "                  Updating latitude & longitude - converged at iteration 2\n",
      "                  Updating all hypocenter params - converged at iteration 2\n",
      "                Updating event ID 6 (7/15)\n",
      "                  Updating latitude & longitude - converged at iteration 2\n",
      "                  Updating all hypocenter params - converged at iteration 2\n",
      "                Updating event ID 7 (8/15)\n",
      "                  Updating latitude & longitude - converged at iteration 2\n",
      "                  Updating all hypocenter params - converged at iteration 2\n",
      "                Updating event ID 8 (9/15)\n",
      "                  Updating latitude & longitude - converged at iteration 2\n",
      "                  Updating all hypocenter params - converged at iteration 2\n",
      "                Updating event ID 9 (10/15)\n",
      "                  Updating latitude & longitude - converged at iteration 2\n",
      "                  Updating all hypocenter params - converged at iteration 2\n",
      "                Updating event ID 10 (11/15)\n",
      "                  Updating latitude & longitude - converged at iteration 2\n",
      "                  Updating all hypocenter params - converged at iteration 2\n",
      "                Updating event ID 11 (12/15)\n",
      "                  Updating latitude & longitude - converged at iteration 2\n",
      "                  Updating all hypocenter params - converged at iteration 2\n",
      "                Updating event ID 12 (13/15)\n",
      "                  Updating latitude & longitude - converged at iteration 2\n",
      "                  Updating all hypocenter params - converged at iteration 2\n",
      "                Updating event ID 13 (14/15)\n",
      "                  Updating latitude & longitude - converged at iteration 2\n",
      "                  Updating all hypocenter params - converged at iteration 2\n",
      "                Updating event ID 14 (15/15)\n",
      "                  Updating latitude & longitude - converged at iteration 2\n",
      "                  Updating all hypocenter params - converged at iteration 2\n",
      "Iteration 2 - Updating velocity model\n",
      "                Updating penalty vector\n",
      "                Raytracing\n"
     ]
    },
    {
     "data": {
      "image/png": "[encoded data removed]",
      "text/plain": [
       "<matplotlib.figure.Figure at 0x1143766d8>"
      ]
     },
     "metadata": {},
     "output_type": "display_data"
    },
    {
     "name": "stdout",
     "output_type": "stream",
     "text": [
      "                Building matrix M\n",
      "                  Event ID 0\n",
      "                  Event ID 1\n",
      "                  Event ID 2\n",
      "                  Event ID 3\n",
      "                  Event ID 4\n",
      "                  Event ID 5\n",
      "                  Event ID 6\n",
      "                  Event ID 7\n",
      "                  Event ID 8\n",
      "                  Event ID 9\n",
      "                  Event ID 10\n",
      "                  Event ID 11\n",
      "                  Event ID 12\n",
      "                  Event ID 13\n",
      "                  Event ID 14\n",
      "                Assembling matrices and solving system\n",
      "Iteration 2 - Relocating events\n",
      "                Updating event ID 0 (1/15)\n",
      "                  Updating latitude & longitude - converged at iteration 2\n",
      "                  Updating all hypocenter params - converged at iteration 2\n",
      "                Updating event ID 1 (2/15)\n",
      "                  Updating latitude & longitude - converged at iteration 2\n",
      "                  Updating all hypocenter params - converged at iteration 2\n",
      "                Updating event ID 2 (3/15)\n",
      "                  Updating latitude & longitude - converged at iteration 2\n",
      "                  Updating all hypocenter params - converged at iteration 2\n",
      "                Updating event ID 3 (4/15)\n",
      "                  Updating latitude & longitude - converged at iteration 2\n",
      "                  Updating all hypocenter params - converged at iteration 2\n",
      "                Updating event ID 4 (5/15)\n",
      "                  Updating latitude & longitude - converged at iteration 2\n",
      "                  Updating all hypocenter params - converged at iteration 2\n",
      "                Updating event ID 5 (6/15)\n",
      "                  Updating latitude & longitude - converged at iteration 2\n",
      "                  Updating all hypocenter params - converged at iteration 2\n",
      "                Updating event ID 6 (7/15)\n",
      "                  Updating latitude & longitude - converged at iteration 2\n",
      "                  Updating all hypocenter params - converged at iteration 2\n",
      "                Updating event ID 7 (8/15)\n",
      "                  Updating latitude & longitude - converged at iteration 2\n",
      "                  Updating all hypocenter params - converged at iteration 2\n",
      "                Updating event ID 8 (9/15)\n",
      "                  Updating latitude & longitude - converged at iteration 2\n",
      "                  Updating all hypocenter params - converged at iteration 2\n",
      "                Updating event ID 9 (10/15)\n",
      "                  Updating latitude & longitude - converged at iteration 2\n",
      "                  Updating all hypocenter params - converged at iteration 2\n",
      "                Updating event ID 10 (11/15)\n",
      "                  Updating latitude & longitude - converged at iteration 2\n",
      "                  Updating all hypocenter params - converged at iteration 2\n",
      "                Updating event ID 11 (12/15)\n",
      "                  Updating latitude & longitude - converged at iteration 2\n",
      "                  Updating all hypocenter params - converged at iteration 2\n",
      "                Updating event ID 12 (13/15)\n",
      "                  Updating latitude & longitude - converged at iteration 2\n",
      "                  Updating all hypocenter params - converged at iteration 2\n",
      "                Updating event ID 13 (14/15)\n",
      "                  Updating latitude & longitude - converged at iteration 2\n",
      "                  Updating all hypocenter params - converged at iteration 2\n",
      "                Updating event ID 14 (15/15)\n",
      "                  Updating latitude & longitude - converged at iteration 2\n",
      "                  Updating all hypocenter params - converged at iteration 2\n"
     ]
    },
    {
     "data": {
      "image/png": "[encoded data removed]",
      "text/plain": [
       "<matplotlib.figure.Figure at 0x1145a8ef0>"
      ]
     },
     "metadata": {},
     "output_type": "display_data"
    }
   ],
   "source": [
    "h, V, sc, res = hypo.jointHypoVel(par, g, data, Vinit, hinit, caldata=caldata, Vpts=Vpts)"
   ]
  },
  {
   "cell_type": "code",
   "execution_count": 16,
   "metadata": {},
   "outputs": [
    {
     "data": {
      "image/png": "[encoded data removed]",
      "text/plain": [
       "<matplotlib.figure.Figure at 0x1145a8748>"
      ]
     },
     "metadata": {},
     "output_type": "display_data"
    }
   ],
   "source": [
    "plt.plot(res[0])\n",
    "plt.show()"
   ]
  },
  {
   "cell_type": "code",
   "execution_count": null,
   "metadata": {
    "collapsed": true
   },
   "outputs": [],
   "source": []
  }
 ],
 "metadata": {
  "kernelspec": {
   "display_name": "Python 3",
   "language": "python",
   "name": "python3"
  },
  "language_info": {
   "codemirror_mode": {
    "name": "ipython",
    "version": 3
   },
   "file_extension": ".py",
   "mimetype": "text/x-python",
   "name": "python",
   "nbconvert_exporter": "python",
   "pygments_lexer": "ipython3",
   "version": "3.5.3"
  }
 },
 "nbformat": 4,
 "nbformat_minor": 2
}
