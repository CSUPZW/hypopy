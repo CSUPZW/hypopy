{
 "cells": [
  {
   "cell_type": "markdown",
   "metadata": {},
   "source": [
    "# hypopy tutorial"
   ]
  },
  {
   "cell_type": "code",
   "execution_count": 1,
   "metadata": {
    "collapsed": true
   },
   "outputs": [],
   "source": [
    "import numpy as np\n",
    "import matplotlib.pyplot as plt\n",
    "\n",
    "import hypo"
   ]
  },
  {
   "cell_type": "markdown",
   "metadata": {},
   "source": [
    "## Joint hypocenter-velocity inversion with P-wave arrivals only\n",
    "\n",
    "### Create first synthetic data\n",
    "\n",
    "Define limits and build grid"
   ]
  },
  {
   "cell_type": "code",
   "execution_count": 2,
   "metadata": {},
   "outputs": [],
   "source": [
    "xmin = 100.0\n",
    "xmax = 201.0\n",
    "ymin = 80.0\n",
    "ymax = 201.0\n",
    "zmin = 0.0\n",
    "zmax = 71.0\n",
    "\n",
    "dx = 10.0\n",
    "\n",
    "g = hypo.Grid3D(np.arange(xmin, xmax, dx), np.arange(ymin, ymax, dx), np.arange(zmin, zmax, dx))"
   ]
  },
  {
   "cell_type": "markdown",
   "metadata": {},
   "source": [
    "We need some receivers"
   ]
  },
  {
   "cell_type": "code",
   "execution_count": 3,
   "metadata": {
    "collapsed": true
   },
   "outputs": [],
   "source": [
    "rcv = np.array([[112., 115., 13.],\n",
    "                    [151., 117., 17.],\n",
    "                    [180., 115., 16.],\n",
    "                    [113., 145., 11.],\n",
    "                    [160., 150., 17.],\n",
    "                    [185., 149., 15.],\n",
    "                    [117., 184., 11.],\n",
    "                    [155., 192.,  9.],\n",
    "                    [188., 188., 10.],\n",
    "                    [188., 186., 30.],\n",
    "                    [188., 183., 60.]])\n",
    "nsta = rcv.shape[0]"
   ]
  },
  {
   "cell_type": "markdown",
   "metadata": {},
   "source": [
    "Let's create 15 events randomly located in the grid"
   ]
  },
  {
   "cell_type": "code",
   "execution_count": 4,
   "metadata": {
    "collapsed": true
   },
   "outputs": [],
   "source": [
    "nev = 15\n",
    "src = np.vstack((np.arange(nev),                                            # event ID\n",
    "                 np.linspace(0., 50., nev) + 2.*np.random.randn(nev),       # origin time\n",
    "                 130. +  5.*np.random.randn(nev),                           # x\n",
    "                 160. +  5.*np.random.randn(nev),                           # y\n",
    "                  35. + 10.*np.random.randn(nev))).T                        # z"
   ]
  },
  {
   "cell_type": "markdown",
   "metadata": {},
   "source": [
    "For simplicity, we will use a velocity model with a small vertical gradient and mean Vp = 4000 m/s"
   ]
  },
  {
   "cell_type": "code",
   "execution_count": 5,
   "metadata": {},
   "outputs": [
    {
     "data": {
      "image/png": "[encoded data removed]",
      "text/plain": [
       "<matplotlib.figure.Figure at 0x112742e10>"
      ]
     },
     "metadata": {},
     "output_type": "display_data"
    }
   ],
   "source": [
    "z = np.arange(zmin, zmax, dx) - 35.\n",
    "Vz = 4000.0 + 5*z\n",
    "Vp = np.kron(Vz, np.ones((g.shape[0], g.shape[1], 1)))\n",
    "\n",
    "plt.subplot(221)\n",
    "plt.imshow(np.squeeze(Vp[:,0,:].T))\n",
    "plt.subplot(222)\n",
    "plt.imshow(np.squeeze(Vp[0,:,:].T))\n",
    "plt.colorbar()\n",
    "plt.subplot(223)\n",
    "plt.imshow(np.squeeze(Vp[:,:,4]))\n",
    "plt.show()"
   ]
  },
  {
   "cell_type": "markdown",
   "metadata": {},
   "source": [
    "Let's now compute the travel times\n",
    "\n",
    "The raytracing routine takes 3 input variables:\n",
    "- the slowness vector\n",
    "- the matrix of hypocenter data (hypo)\n",
    "- the matrix of receiver coordonates (rcv)\n",
    "\n",
    "hypo and rcv must have the same number of rows, with each row corresponding to a source-receiver pair"
   ]
  },
  {
   "cell_type": "code",
   "execution_count": 6,
   "metadata": {},
   "outputs": [
    {
     "name": "stdout",
     "output_type": "stream",
     "text": [
      "(1144,) 1144\n",
      "10 12 7\n"
     ]
    }
   ],
   "source": [
    "slowness = Vp.flatten()\n",
    "\n",
    "src = np.kron(src,np.ones((nsta,1)))\n",
    "rcv = np.kron(np.ones((nev,1)), rcv)\n",
    "\n",
    "tt = g.raytrace(slowness, src, rcv)"
   ]
  },
  {
   "cell_type": "code",
   "execution_count": null,
   "metadata": {
    "collapsed": true
   },
   "outputs": [],
   "source": []
  }
 ],
 "metadata": {
  "kernelspec": {
   "display_name": "Python 3",
   "language": "python",
   "name": "python3"
  },
  "language_info": {
   "codemirror_mode": {
    "name": "ipython",
    "version": 3
   },
   "file_extension": ".py",
   "mimetype": "text/x-python",
   "name": "python",
   "nbconvert_exporter": "python",
   "pygments_lexer": "ipython3",
   "version": "3.5.3"
  }
 },
 "nbformat": 4,
 "nbformat_minor": 2
}
